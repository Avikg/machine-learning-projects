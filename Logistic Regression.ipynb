{
  "nbformat": 4,
  "nbformat_minor": 0,
  "metadata": {
    "colab": {
      "provenance": []
    },
    "kernelspec": {
      "name": "python3",
      "display_name": "Python 3"
    },
    "language_info": {
      "name": "python"
    }
  },
  "cells": [
    {
      "cell_type": "code",
      "execution_count": 4,
      "metadata": {
        "id": "A0Lt0BxRZCra"
      },
      "outputs": [],
      "source": [
        "import numpy as np"
      ]
    },
    {
      "cell_type": "code",
      "source": [
        "class Logistic_Regression():\n",
        "  #declaring learning rate and number of iterations\n",
        "  def __init__(self, learning_rate, no_of_iterations):\n",
        "    self.learning_rate = learning_rate\n",
        "    self.no_of_iterations = no_of_iterations\n",
        "\n",
        "  #fit function to train the model with dataset\n",
        "  def fit(self, X, Y):\n",
        "    #number of data points in the dataset (number of rows) ->  m\n",
        "    #number of input features in the dataset (number of columns) -> n\n",
        "    self.m, self.n = X.shape\n",
        "\n",
        "    #initiating weight & bias value\n",
        "    self.w = np.zeros(self.n)\n",
        "    self.b = 0\n",
        "\n",
        "    self.X = X\n",
        "    self.Y = Y\n",
        "\n",
        "\n",
        "    #implementing Gradient Descent for Optimization\n",
        "    for i in range(self.no_of_iterations):\n",
        "      self.update_weights()\n",
        "\n",
        "  def update_weights(self):\n",
        "    #Y_hat formula (sigmoid function)\n",
        "    Y_hat = 1 / (1 + np.exp( - (self.X.dot(self.w) + self.b ) ))\n",
        "\n",
        "    #derivaties\n",
        "    dw = (1/self.m)*np.dot(self.X.T, (Y_hat - self.Y))\n",
        "    db = (1/self.m)*np.sum(Y_hat - self.Y)\n",
        "\n",
        "    #updating the weights & bias using gradient descent\n",
        "    self.w = self.w - self.learning_rate * dw\n",
        "    self.b = self.b - self.learning_rate * db\n",
        "\n",
        "\n",
        "  #prediction\n",
        "  def predict(self, X):\n",
        "    Y_pred = 1 / (1 + np.exp( - (X.dot(self.w) + self.b ) ))\n",
        "    Y_pred = np.where( Y_pred > 0.5, 1, 0)\n",
        "    return Y_pred"
      ],
      "metadata": {
        "id": "eWBEhZXXbYmZ"
      },
      "execution_count": 5,
      "outputs": []
    },
    {
      "cell_type": "code",
      "source": [
        "import pandas as pd\n",
        "from sklearn.preprocessing import StandardScaler\n",
        "from sklearn.model_selection import train_test_split\n",
        "from sklearn.metrics import accuracy_score"
      ],
      "metadata": {
        "id": "-Firag_1bcpE"
      },
      "execution_count": 6,
      "outputs": []
    },
    {
      "cell_type": "code",
      "source": [
        "pumpkin_dataset = pd.read_csv('/content/Pumpkin_Seeds_Dataset.csv')"
      ],
      "metadata": {
        "id": "J1XX72vZbfqR"
      },
      "execution_count": 7,
      "outputs": []
    },
    {
      "cell_type": "code",
      "source": [
        "pumpkin_dataset.head()"
      ],
      "metadata": {
        "colab": {
          "base_uri": "https://localhost:8080/",
          "height": 250
        },
        "id": "Pp1qv_6ydMXf",
        "outputId": "6cf2a876-6489-40fe-ac4e-fff40a9f3cfd"
      },
      "execution_count": 8,
      "outputs": [
        {
          "output_type": "execute_result",
          "data": {
            "text/plain": [
              "    Area  Perimeter  Major_Axis_Length  Minor_Axis_Length  Convex_Area  \\\n",
              "0  56276    888.242           326.1485           220.2388        56831   \n",
              "1  76631   1068.146           417.1932           234.2289        77280   \n",
              "2  71623   1082.987           435.8328           211.0457        72663   \n",
              "3  66458    992.051           381.5638           222.5322        67118   \n",
              "4  66107    998.146           383.8883           220.4545        67117   \n",
              "\n",
              "   Equiv_Diameter  Eccentricity  Solidity  Extent  Roundness  Aspect_Ration  \\\n",
              "0        267.6805        0.7376    0.9902  0.7453     0.8963         1.4809   \n",
              "1        312.3614        0.8275    0.9916  0.7151     0.8440         1.7811   \n",
              "2        301.9822        0.8749    0.9857  0.7400     0.7674         2.0651   \n",
              "3        290.8899        0.8123    0.9902  0.7396     0.8486         1.7146   \n",
              "4        290.1207        0.8187    0.9850  0.6752     0.8338         1.7413   \n",
              "\n",
              "   Compactness  Class  \n",
              "0       0.8207      1  \n",
              "1       0.7487      1  \n",
              "2       0.6929      1  \n",
              "3       0.7624      1  \n",
              "4       0.7557      1  "
            ],
            "text/html": [
              "\n",
              "\n",
              "  <div id=\"df-a209ac1b-32d4-4118-96e9-82494a33bf26\">\n",
              "    <div class=\"colab-df-container\">\n",
              "      <div>\n",
              "<style scoped>\n",
              "    .dataframe tbody tr th:only-of-type {\n",
              "        vertical-align: middle;\n",
              "    }\n",
              "\n",
              "    .dataframe tbody tr th {\n",
              "        vertical-align: top;\n",
              "    }\n",
              "\n",
              "    .dataframe thead th {\n",
              "        text-align: right;\n",
              "    }\n",
              "</style>\n",
              "<table border=\"1\" class=\"dataframe\">\n",
              "  <thead>\n",
              "    <tr style=\"text-align: right;\">\n",
              "      <th></th>\n",
              "      <th>Area</th>\n",
              "      <th>Perimeter</th>\n",
              "      <th>Major_Axis_Length</th>\n",
              "      <th>Minor_Axis_Length</th>\n",
              "      <th>Convex_Area</th>\n",
              "      <th>Equiv_Diameter</th>\n",
              "      <th>Eccentricity</th>\n",
              "      <th>Solidity</th>\n",
              "      <th>Extent</th>\n",
              "      <th>Roundness</th>\n",
              "      <th>Aspect_Ration</th>\n",
              "      <th>Compactness</th>\n",
              "      <th>Class</th>\n",
              "    </tr>\n",
              "  </thead>\n",
              "  <tbody>\n",
              "    <tr>\n",
              "      <th>0</th>\n",
              "      <td>56276</td>\n",
              "      <td>888.242</td>\n",
              "      <td>326.1485</td>\n",
              "      <td>220.2388</td>\n",
              "      <td>56831</td>\n",
              "      <td>267.6805</td>\n",
              "      <td>0.7376</td>\n",
              "      <td>0.9902</td>\n",
              "      <td>0.7453</td>\n",
              "      <td>0.8963</td>\n",
              "      <td>1.4809</td>\n",
              "      <td>0.8207</td>\n",
              "      <td>1</td>\n",
              "    </tr>\n",
              "    <tr>\n",
              "      <th>1</th>\n",
              "      <td>76631</td>\n",
              "      <td>1068.146</td>\n",
              "      <td>417.1932</td>\n",
              "      <td>234.2289</td>\n",
              "      <td>77280</td>\n",
              "      <td>312.3614</td>\n",
              "      <td>0.8275</td>\n",
              "      <td>0.9916</td>\n",
              "      <td>0.7151</td>\n",
              "      <td>0.8440</td>\n",
              "      <td>1.7811</td>\n",
              "      <td>0.7487</td>\n",
              "      <td>1</td>\n",
              "    </tr>\n",
              "    <tr>\n",
              "      <th>2</th>\n",
              "      <td>71623</td>\n",
              "      <td>1082.987</td>\n",
              "      <td>435.8328</td>\n",
              "      <td>211.0457</td>\n",
              "      <td>72663</td>\n",
              "      <td>301.9822</td>\n",
              "      <td>0.8749</td>\n",
              "      <td>0.9857</td>\n",
              "      <td>0.7400</td>\n",
              "      <td>0.7674</td>\n",
              "      <td>2.0651</td>\n",
              "      <td>0.6929</td>\n",
              "      <td>1</td>\n",
              "    </tr>\n",
              "    <tr>\n",
              "      <th>3</th>\n",
              "      <td>66458</td>\n",
              "      <td>992.051</td>\n",
              "      <td>381.5638</td>\n",
              "      <td>222.5322</td>\n",
              "      <td>67118</td>\n",
              "      <td>290.8899</td>\n",
              "      <td>0.8123</td>\n",
              "      <td>0.9902</td>\n",
              "      <td>0.7396</td>\n",
              "      <td>0.8486</td>\n",
              "      <td>1.7146</td>\n",
              "      <td>0.7624</td>\n",
              "      <td>1</td>\n",
              "    </tr>\n",
              "    <tr>\n",
              "      <th>4</th>\n",
              "      <td>66107</td>\n",
              "      <td>998.146</td>\n",
              "      <td>383.8883</td>\n",
              "      <td>220.4545</td>\n",
              "      <td>67117</td>\n",
              "      <td>290.1207</td>\n",
              "      <td>0.8187</td>\n",
              "      <td>0.9850</td>\n",
              "      <td>0.6752</td>\n",
              "      <td>0.8338</td>\n",
              "      <td>1.7413</td>\n",
              "      <td>0.7557</td>\n",
              "      <td>1</td>\n",
              "    </tr>\n",
              "  </tbody>\n",
              "</table>\n",
              "</div>\n",
              "      <button class=\"colab-df-convert\" onclick=\"convertToInteractive('df-a209ac1b-32d4-4118-96e9-82494a33bf26')\"\n",
              "              title=\"Convert this dataframe to an interactive table.\"\n",
              "              style=\"display:none;\">\n",
              "\n",
              "  <svg xmlns=\"http://www.w3.org/2000/svg\" height=\"24px\"viewBox=\"0 0 24 24\"\n",
              "       width=\"24px\">\n",
              "    <path d=\"M0 0h24v24H0V0z\" fill=\"none\"/>\n",
              "    <path d=\"M18.56 5.44l.94 2.06.94-2.06 2.06-.94-2.06-.94-.94-2.06-.94 2.06-2.06.94zm-11 1L8.5 8.5l.94-2.06 2.06-.94-2.06-.94L8.5 2.5l-.94 2.06-2.06.94zm10 10l.94 2.06.94-2.06 2.06-.94-2.06-.94-.94-2.06-.94 2.06-2.06.94z\"/><path d=\"M17.41 7.96l-1.37-1.37c-.4-.4-.92-.59-1.43-.59-.52 0-1.04.2-1.43.59L10.3 9.45l-7.72 7.72c-.78.78-.78 2.05 0 2.83L4 21.41c.39.39.9.59 1.41.59.51 0 1.02-.2 1.41-.59l7.78-7.78 2.81-2.81c.8-.78.8-2.07 0-2.86zM5.41 20L4 18.59l7.72-7.72 1.47 1.35L5.41 20z\"/>\n",
              "  </svg>\n",
              "      </button>\n",
              "\n",
              "\n",
              "\n",
              "    <div id=\"df-bf211d98-7c86-4bda-b060-e3374d7846a1\">\n",
              "      <button class=\"colab-df-quickchart\" onclick=\"quickchart('df-bf211d98-7c86-4bda-b060-e3374d7846a1')\"\n",
              "              title=\"Suggest charts.\"\n",
              "              style=\"display:none;\">\n",
              "\n",
              "<svg xmlns=\"http://www.w3.org/2000/svg\" height=\"24px\"viewBox=\"0 0 24 24\"\n",
              "     width=\"24px\">\n",
              "    <g>\n",
              "        <path d=\"M19 3H5c-1.1 0-2 .9-2 2v14c0 1.1.9 2 2 2h14c1.1 0 2-.9 2-2V5c0-1.1-.9-2-2-2zM9 17H7v-7h2v7zm4 0h-2V7h2v10zm4 0h-2v-4h2v4z\"/>\n",
              "    </g>\n",
              "</svg>\n",
              "      </button>\n",
              "    </div>\n",
              "\n",
              "<style>\n",
              "  .colab-df-quickchart {\n",
              "    background-color: #E8F0FE;\n",
              "    border: none;\n",
              "    border-radius: 50%;\n",
              "    cursor: pointer;\n",
              "    display: none;\n",
              "    fill: #1967D2;\n",
              "    height: 32px;\n",
              "    padding: 0 0 0 0;\n",
              "    width: 32px;\n",
              "  }\n",
              "\n",
              "  .colab-df-quickchart:hover {\n",
              "    background-color: #E2EBFA;\n",
              "    box-shadow: 0px 1px 2px rgba(60, 64, 67, 0.3), 0px 1px 3px 1px rgba(60, 64, 67, 0.15);\n",
              "    fill: #174EA6;\n",
              "  }\n",
              "\n",
              "  [theme=dark] .colab-df-quickchart {\n",
              "    background-color: #3B4455;\n",
              "    fill: #D2E3FC;\n",
              "  }\n",
              "\n",
              "  [theme=dark] .colab-df-quickchart:hover {\n",
              "    background-color: #434B5C;\n",
              "    box-shadow: 0px 1px 3px 1px rgba(0, 0, 0, 0.15);\n",
              "    filter: drop-shadow(0px 1px 2px rgba(0, 0, 0, 0.3));\n",
              "    fill: #FFFFFF;\n",
              "  }\n",
              "</style>\n",
              "\n",
              "    <script>\n",
              "      async function quickchart(key) {\n",
              "        const containerElement = document.querySelector('#' + key);\n",
              "        const charts = await google.colab.kernel.invokeFunction(\n",
              "            'suggestCharts', [key], {});\n",
              "      }\n",
              "    </script>\n",
              "\n",
              "\n",
              "      <script>\n",
              "\n",
              "function displayQuickchartButton(domScope) {\n",
              "  let quickchartButtonEl =\n",
              "    domScope.querySelector('#df-bf211d98-7c86-4bda-b060-e3374d7846a1 button.colab-df-quickchart');\n",
              "  quickchartButtonEl.style.display =\n",
              "    google.colab.kernel.accessAllowed ? 'block' : 'none';\n",
              "}\n",
              "\n",
              "        displayQuickchartButton(document);\n",
              "      </script>\n",
              "      <style>\n",
              "    .colab-df-container {\n",
              "      display:flex;\n",
              "      flex-wrap:wrap;\n",
              "      gap: 12px;\n",
              "    }\n",
              "\n",
              "    .colab-df-convert {\n",
              "      background-color: #E8F0FE;\n",
              "      border: none;\n",
              "      border-radius: 50%;\n",
              "      cursor: pointer;\n",
              "      display: none;\n",
              "      fill: #1967D2;\n",
              "      height: 32px;\n",
              "      padding: 0 0 0 0;\n",
              "      width: 32px;\n",
              "    }\n",
              "\n",
              "    .colab-df-convert:hover {\n",
              "      background-color: #E2EBFA;\n",
              "      box-shadow: 0px 1px 2px rgba(60, 64, 67, 0.3), 0px 1px 3px 1px rgba(60, 64, 67, 0.15);\n",
              "      fill: #174EA6;\n",
              "    }\n",
              "\n",
              "    [theme=dark] .colab-df-convert {\n",
              "      background-color: #3B4455;\n",
              "      fill: #D2E3FC;\n",
              "    }\n",
              "\n",
              "    [theme=dark] .colab-df-convert:hover {\n",
              "      background-color: #434B5C;\n",
              "      box-shadow: 0px 1px 3px 1px rgba(0, 0, 0, 0.15);\n",
              "      filter: drop-shadow(0px 1px 2px rgba(0, 0, 0, 0.3));\n",
              "      fill: #FFFFFF;\n",
              "    }\n",
              "  </style>\n",
              "\n",
              "      <script>\n",
              "        const buttonEl =\n",
              "          document.querySelector('#df-a209ac1b-32d4-4118-96e9-82494a33bf26 button.colab-df-convert');\n",
              "        buttonEl.style.display =\n",
              "          google.colab.kernel.accessAllowed ? 'block' : 'none';\n",
              "\n",
              "        async function convertToInteractive(key) {\n",
              "          const element = document.querySelector('#df-a209ac1b-32d4-4118-96e9-82494a33bf26');\n",
              "          const dataTable =\n",
              "            await google.colab.kernel.invokeFunction('convertToInteractive',\n",
              "                                                     [key], {});\n",
              "          if (!dataTable) return;\n",
              "\n",
              "          const docLinkHtml = 'Like what you see? Visit the ' +\n",
              "            '<a target=\"_blank\" href=https://colab.research.google.com/notebooks/data_table.ipynb>data table notebook</a>'\n",
              "            + ' to learn more about interactive tables.';\n",
              "          element.innerHTML = '';\n",
              "          dataTable['output_type'] = 'display_data';\n",
              "          await google.colab.output.renderOutput(dataTable, element);\n",
              "          const docLink = document.createElement('div');\n",
              "          docLink.innerHTML = docLinkHtml;\n",
              "          element.appendChild(docLink);\n",
              "        }\n",
              "      </script>\n",
              "    </div>\n",
              "  </div>\n"
            ]
          },
          "metadata": {},
          "execution_count": 8
        }
      ]
    },
    {
      "cell_type": "code",
      "source": [
        "#number of rows and Columns in this dataset\n",
        "pumpkin_dataset.shape"
      ],
      "metadata": {
        "colab": {
          "base_uri": "https://localhost:8080/",
          "height": 0
        },
        "id": "MlrQ3hXbdPT6",
        "outputId": "9c510493-786f-42f4-d990-fb12fbc9e494"
      },
      "execution_count": 9,
      "outputs": [
        {
          "output_type": "execute_result",
          "data": {
            "text/plain": [
              "(2500, 13)"
            ]
          },
          "metadata": {},
          "execution_count": 9
        }
      ]
    },
    {
      "cell_type": "code",
      "source": [
        "pumpkin_dataset['Class'].value_counts()"
      ],
      "metadata": {
        "colab": {
          "base_uri": "https://localhost:8080/",
          "height": 0
        },
        "id": "AdspMmcndlJv",
        "outputId": "efb4d705-6856-4cc7-8212-a790c5ecbcfd"
      },
      "execution_count": 11,
      "outputs": [
        {
          "output_type": "execute_result",
          "data": {
            "text/plain": [
              "1    1300\n",
              "0    1200\n",
              "Name: Class, dtype: int64"
            ]
          },
          "metadata": {},
          "execution_count": 11
        }
      ]
    },
    {
      "cell_type": "code",
      "source": [
        "#separating the features and target\n",
        "features = pumpkin_dataset.drop(columns = 'Class', axis=1)\n",
        "target = pumpkin_dataset['Class']"
      ],
      "metadata": {
        "id": "p-EZnIfBd75H"
      },
      "execution_count": 14,
      "outputs": []
    },
    {
      "cell_type": "code",
      "source": [
        "print(features)"
      ],
      "metadata": {
        "colab": {
          "base_uri": "https://localhost:8080/",
          "height": 0
        },
        "id": "U2ZhtwngeGga",
        "outputId": "49899a21-2dc7-4fae-90fb-e40b0a430d8a"
      },
      "execution_count": 15,
      "outputs": [
        {
          "output_type": "stream",
          "name": "stdout",
          "text": [
            "       Area  Perimeter  Major_Axis_Length  Minor_Axis_Length  Convex_Area  \\\n",
            "0     56276    888.242           326.1485           220.2388        56831   \n",
            "1     76631   1068.146           417.1932           234.2289        77280   \n",
            "2     71623   1082.987           435.8328           211.0457        72663   \n",
            "3     66458    992.051           381.5638           222.5322        67118   \n",
            "4     66107    998.146           383.8883           220.4545        67117   \n",
            "...     ...        ...                ...                ...          ...   \n",
            "2495  79637   1224.710           533.1513           190.4367        80381   \n",
            "2496  69647   1084.318           462.9416           191.8210        70216   \n",
            "2497  87994   1210.314           507.2200           222.1872        88702   \n",
            "2498  80011   1182.947           501.9065           204.7531        80902   \n",
            "2499  84934   1159.933           462.8951           234.5597        85781   \n",
            "\n",
            "      Equiv_Diameter  Eccentricity  Solidity  Extent  Roundness  \\\n",
            "0           267.6805        0.7376    0.9902  0.7453     0.8963   \n",
            "1           312.3614        0.8275    0.9916  0.7151     0.8440   \n",
            "2           301.9822        0.8749    0.9857  0.7400     0.7674   \n",
            "3           290.8899        0.8123    0.9902  0.7396     0.8486   \n",
            "4           290.1207        0.8187    0.9850  0.6752     0.8338   \n",
            "...              ...           ...       ...     ...        ...   \n",
            "2495        318.4289        0.9340    0.9907  0.4888     0.6672   \n",
            "2496        297.7874        0.9101    0.9919  0.6002     0.7444   \n",
            "2497        334.7199        0.8990    0.9920  0.7643     0.7549   \n",
            "2498        319.1758        0.9130    0.9890  0.7374     0.7185   \n",
            "2499        328.8485        0.8621    0.9901  0.7360     0.7933   \n",
            "\n",
            "      Aspect_Ration  Compactness  \n",
            "0            1.4809       0.8207  \n",
            "1            1.7811       0.7487  \n",
            "2            2.0651       0.6929  \n",
            "3            1.7146       0.7624  \n",
            "4            1.7413       0.7557  \n",
            "...             ...          ...  \n",
            "2495         2.7996       0.5973  \n",
            "2496         2.4134       0.6433  \n",
            "2497         2.2828       0.6599  \n",
            "2498         2.4513       0.6359  \n",
            "2499         1.9735       0.7104  \n",
            "\n",
            "[2500 rows x 12 columns]\n"
          ]
        }
      ]
    },
    {
      "cell_type": "code",
      "source": [
        "print(target)"
      ],
      "metadata": {
        "colab": {
          "base_uri": "https://localhost:8080/",
          "height": 0
        },
        "id": "4CQPkPu6eUrD",
        "outputId": "c63e5036-a331-40e1-d046-f22b0e4bcbb9"
      },
      "execution_count": 16,
      "outputs": [
        {
          "output_type": "stream",
          "name": "stdout",
          "text": [
            "0       1\n",
            "1       1\n",
            "2       1\n",
            "3       1\n",
            "4       1\n",
            "       ..\n",
            "2495    0\n",
            "2496    0\n",
            "2497    0\n",
            "2498    0\n",
            "2499    0\n",
            "Name: Class, Length: 2500, dtype: int64\n"
          ]
        }
      ]
    },
    {
      "cell_type": "code",
      "source": [
        "features"
      ],
      "metadata": {
        "colab": {
          "base_uri": "https://localhost:8080/",
          "height": 468
        },
        "id": "iHUFTVfHet76",
        "outputId": "5ac9b53d-c971-4a7d-828f-5833a3b5daa5"
      },
      "execution_count": 17,
      "outputs": [
        {
          "output_type": "execute_result",
          "data": {
            "text/plain": [
              "       Area  Perimeter  Major_Axis_Length  Minor_Axis_Length  Convex_Area  \\\n",
              "0     56276    888.242           326.1485           220.2388        56831   \n",
              "1     76631   1068.146           417.1932           234.2289        77280   \n",
              "2     71623   1082.987           435.8328           211.0457        72663   \n",
              "3     66458    992.051           381.5638           222.5322        67118   \n",
              "4     66107    998.146           383.8883           220.4545        67117   \n",
              "...     ...        ...                ...                ...          ...   \n",
              "2495  79637   1224.710           533.1513           190.4367        80381   \n",
              "2496  69647   1084.318           462.9416           191.8210        70216   \n",
              "2497  87994   1210.314           507.2200           222.1872        88702   \n",
              "2498  80011   1182.947           501.9065           204.7531        80902   \n",
              "2499  84934   1159.933           462.8951           234.5597        85781   \n",
              "\n",
              "      Equiv_Diameter  Eccentricity  Solidity  Extent  Roundness  \\\n",
              "0           267.6805        0.7376    0.9902  0.7453     0.8963   \n",
              "1           312.3614        0.8275    0.9916  0.7151     0.8440   \n",
              "2           301.9822        0.8749    0.9857  0.7400     0.7674   \n",
              "3           290.8899        0.8123    0.9902  0.7396     0.8486   \n",
              "4           290.1207        0.8187    0.9850  0.6752     0.8338   \n",
              "...              ...           ...       ...     ...        ...   \n",
              "2495        318.4289        0.9340    0.9907  0.4888     0.6672   \n",
              "2496        297.7874        0.9101    0.9919  0.6002     0.7444   \n",
              "2497        334.7199        0.8990    0.9920  0.7643     0.7549   \n",
              "2498        319.1758        0.9130    0.9890  0.7374     0.7185   \n",
              "2499        328.8485        0.8621    0.9901  0.7360     0.7933   \n",
              "\n",
              "      Aspect_Ration  Compactness  \n",
              "0            1.4809       0.8207  \n",
              "1            1.7811       0.7487  \n",
              "2            2.0651       0.6929  \n",
              "3            1.7146       0.7624  \n",
              "4            1.7413       0.7557  \n",
              "...             ...          ...  \n",
              "2495         2.7996       0.5973  \n",
              "2496         2.4134       0.6433  \n",
              "2497         2.2828       0.6599  \n",
              "2498         2.4513       0.6359  \n",
              "2499         1.9735       0.7104  \n",
              "\n",
              "[2500 rows x 12 columns]"
            ],
            "text/html": [
              "\n",
              "\n",
              "  <div id=\"df-80cfb9f1-8c5a-4446-bfb3-043a65600015\">\n",
              "    <div class=\"colab-df-container\">\n",
              "      <div>\n",
              "<style scoped>\n",
              "    .dataframe tbody tr th:only-of-type {\n",
              "        vertical-align: middle;\n",
              "    }\n",
              "\n",
              "    .dataframe tbody tr th {\n",
              "        vertical-align: top;\n",
              "    }\n",
              "\n",
              "    .dataframe thead th {\n",
              "        text-align: right;\n",
              "    }\n",
              "</style>\n",
              "<table border=\"1\" class=\"dataframe\">\n",
              "  <thead>\n",
              "    <tr style=\"text-align: right;\">\n",
              "      <th></th>\n",
              "      <th>Area</th>\n",
              "      <th>Perimeter</th>\n",
              "      <th>Major_Axis_Length</th>\n",
              "      <th>Minor_Axis_Length</th>\n",
              "      <th>Convex_Area</th>\n",
              "      <th>Equiv_Diameter</th>\n",
              "      <th>Eccentricity</th>\n",
              "      <th>Solidity</th>\n",
              "      <th>Extent</th>\n",
              "      <th>Roundness</th>\n",
              "      <th>Aspect_Ration</th>\n",
              "      <th>Compactness</th>\n",
              "    </tr>\n",
              "  </thead>\n",
              "  <tbody>\n",
              "    <tr>\n",
              "      <th>0</th>\n",
              "      <td>56276</td>\n",
              "      <td>888.242</td>\n",
              "      <td>326.1485</td>\n",
              "      <td>220.2388</td>\n",
              "      <td>56831</td>\n",
              "      <td>267.6805</td>\n",
              "      <td>0.7376</td>\n",
              "      <td>0.9902</td>\n",
              "      <td>0.7453</td>\n",
              "      <td>0.8963</td>\n",
              "      <td>1.4809</td>\n",
              "      <td>0.8207</td>\n",
              "    </tr>\n",
              "    <tr>\n",
              "      <th>1</th>\n",
              "      <td>76631</td>\n",
              "      <td>1068.146</td>\n",
              "      <td>417.1932</td>\n",
              "      <td>234.2289</td>\n",
              "      <td>77280</td>\n",
              "      <td>312.3614</td>\n",
              "      <td>0.8275</td>\n",
              "      <td>0.9916</td>\n",
              "      <td>0.7151</td>\n",
              "      <td>0.8440</td>\n",
              "      <td>1.7811</td>\n",
              "      <td>0.7487</td>\n",
              "    </tr>\n",
              "    <tr>\n",
              "      <th>2</th>\n",
              "      <td>71623</td>\n",
              "      <td>1082.987</td>\n",
              "      <td>435.8328</td>\n",
              "      <td>211.0457</td>\n",
              "      <td>72663</td>\n",
              "      <td>301.9822</td>\n",
              "      <td>0.8749</td>\n",
              "      <td>0.9857</td>\n",
              "      <td>0.7400</td>\n",
              "      <td>0.7674</td>\n",
              "      <td>2.0651</td>\n",
              "      <td>0.6929</td>\n",
              "    </tr>\n",
              "    <tr>\n",
              "      <th>3</th>\n",
              "      <td>66458</td>\n",
              "      <td>992.051</td>\n",
              "      <td>381.5638</td>\n",
              "      <td>222.5322</td>\n",
              "      <td>67118</td>\n",
              "      <td>290.8899</td>\n",
              "      <td>0.8123</td>\n",
              "      <td>0.9902</td>\n",
              "      <td>0.7396</td>\n",
              "      <td>0.8486</td>\n",
              "      <td>1.7146</td>\n",
              "      <td>0.7624</td>\n",
              "    </tr>\n",
              "    <tr>\n",
              "      <th>4</th>\n",
              "      <td>66107</td>\n",
              "      <td>998.146</td>\n",
              "      <td>383.8883</td>\n",
              "      <td>220.4545</td>\n",
              "      <td>67117</td>\n",
              "      <td>290.1207</td>\n",
              "      <td>0.8187</td>\n",
              "      <td>0.9850</td>\n",
              "      <td>0.6752</td>\n",
              "      <td>0.8338</td>\n",
              "      <td>1.7413</td>\n",
              "      <td>0.7557</td>\n",
              "    </tr>\n",
              "    <tr>\n",
              "      <th>...</th>\n",
              "      <td>...</td>\n",
              "      <td>...</td>\n",
              "      <td>...</td>\n",
              "      <td>...</td>\n",
              "      <td>...</td>\n",
              "      <td>...</td>\n",
              "      <td>...</td>\n",
              "      <td>...</td>\n",
              "      <td>...</td>\n",
              "      <td>...</td>\n",
              "      <td>...</td>\n",
              "      <td>...</td>\n",
              "    </tr>\n",
              "    <tr>\n",
              "      <th>2495</th>\n",
              "      <td>79637</td>\n",
              "      <td>1224.710</td>\n",
              "      <td>533.1513</td>\n",
              "      <td>190.4367</td>\n",
              "      <td>80381</td>\n",
              "      <td>318.4289</td>\n",
              "      <td>0.9340</td>\n",
              "      <td>0.9907</td>\n",
              "      <td>0.4888</td>\n",
              "      <td>0.6672</td>\n",
              "      <td>2.7996</td>\n",
              "      <td>0.5973</td>\n",
              "    </tr>\n",
              "    <tr>\n",
              "      <th>2496</th>\n",
              "      <td>69647</td>\n",
              "      <td>1084.318</td>\n",
              "      <td>462.9416</td>\n",
              "      <td>191.8210</td>\n",
              "      <td>70216</td>\n",
              "      <td>297.7874</td>\n",
              "      <td>0.9101</td>\n",
              "      <td>0.9919</td>\n",
              "      <td>0.6002</td>\n",
              "      <td>0.7444</td>\n",
              "      <td>2.4134</td>\n",
              "      <td>0.6433</td>\n",
              "    </tr>\n",
              "    <tr>\n",
              "      <th>2497</th>\n",
              "      <td>87994</td>\n",
              "      <td>1210.314</td>\n",
              "      <td>507.2200</td>\n",
              "      <td>222.1872</td>\n",
              "      <td>88702</td>\n",
              "      <td>334.7199</td>\n",
              "      <td>0.8990</td>\n",
              "      <td>0.9920</td>\n",
              "      <td>0.7643</td>\n",
              "      <td>0.7549</td>\n",
              "      <td>2.2828</td>\n",
              "      <td>0.6599</td>\n",
              "    </tr>\n",
              "    <tr>\n",
              "      <th>2498</th>\n",
              "      <td>80011</td>\n",
              "      <td>1182.947</td>\n",
              "      <td>501.9065</td>\n",
              "      <td>204.7531</td>\n",
              "      <td>80902</td>\n",
              "      <td>319.1758</td>\n",
              "      <td>0.9130</td>\n",
              "      <td>0.9890</td>\n",
              "      <td>0.7374</td>\n",
              "      <td>0.7185</td>\n",
              "      <td>2.4513</td>\n",
              "      <td>0.6359</td>\n",
              "    </tr>\n",
              "    <tr>\n",
              "      <th>2499</th>\n",
              "      <td>84934</td>\n",
              "      <td>1159.933</td>\n",
              "      <td>462.8951</td>\n",
              "      <td>234.5597</td>\n",
              "      <td>85781</td>\n",
              "      <td>328.8485</td>\n",
              "      <td>0.8621</td>\n",
              "      <td>0.9901</td>\n",
              "      <td>0.7360</td>\n",
              "      <td>0.7933</td>\n",
              "      <td>1.9735</td>\n",
              "      <td>0.7104</td>\n",
              "    </tr>\n",
              "  </tbody>\n",
              "</table>\n",
              "<p>2500 rows × 12 columns</p>\n",
              "</div>\n",
              "      <button class=\"colab-df-convert\" onclick=\"convertToInteractive('df-80cfb9f1-8c5a-4446-bfb3-043a65600015')\"\n",
              "              title=\"Convert this dataframe to an interactive table.\"\n",
              "              style=\"display:none;\">\n",
              "\n",
              "  <svg xmlns=\"http://www.w3.org/2000/svg\" height=\"24px\"viewBox=\"0 0 24 24\"\n",
              "       width=\"24px\">\n",
              "    <path d=\"M0 0h24v24H0V0z\" fill=\"none\"/>\n",
              "    <path d=\"M18.56 5.44l.94 2.06.94-2.06 2.06-.94-2.06-.94-.94-2.06-.94 2.06-2.06.94zm-11 1L8.5 8.5l.94-2.06 2.06-.94-2.06-.94L8.5 2.5l-.94 2.06-2.06.94zm10 10l.94 2.06.94-2.06 2.06-.94-2.06-.94-.94-2.06-.94 2.06-2.06.94z\"/><path d=\"M17.41 7.96l-1.37-1.37c-.4-.4-.92-.59-1.43-.59-.52 0-1.04.2-1.43.59L10.3 9.45l-7.72 7.72c-.78.78-.78 2.05 0 2.83L4 21.41c.39.39.9.59 1.41.59.51 0 1.02-.2 1.41-.59l7.78-7.78 2.81-2.81c.8-.78.8-2.07 0-2.86zM5.41 20L4 18.59l7.72-7.72 1.47 1.35L5.41 20z\"/>\n",
              "  </svg>\n",
              "      </button>\n",
              "\n",
              "\n",
              "\n",
              "    <div id=\"df-25f36de3-39a7-4fff-87f3-1b3ef959b681\">\n",
              "      <button class=\"colab-df-quickchart\" onclick=\"quickchart('df-25f36de3-39a7-4fff-87f3-1b3ef959b681')\"\n",
              "              title=\"Suggest charts.\"\n",
              "              style=\"display:none;\">\n",
              "\n",
              "<svg xmlns=\"http://www.w3.org/2000/svg\" height=\"24px\"viewBox=\"0 0 24 24\"\n",
              "     width=\"24px\">\n",
              "    <g>\n",
              "        <path d=\"M19 3H5c-1.1 0-2 .9-2 2v14c0 1.1.9 2 2 2h14c1.1 0 2-.9 2-2V5c0-1.1-.9-2-2-2zM9 17H7v-7h2v7zm4 0h-2V7h2v10zm4 0h-2v-4h2v4z\"/>\n",
              "    </g>\n",
              "</svg>\n",
              "      </button>\n",
              "    </div>\n",
              "\n",
              "<style>\n",
              "  .colab-df-quickchart {\n",
              "    background-color: #E8F0FE;\n",
              "    border: none;\n",
              "    border-radius: 50%;\n",
              "    cursor: pointer;\n",
              "    display: none;\n",
              "    fill: #1967D2;\n",
              "    height: 32px;\n",
              "    padding: 0 0 0 0;\n",
              "    width: 32px;\n",
              "  }\n",
              "\n",
              "  .colab-df-quickchart:hover {\n",
              "    background-color: #E2EBFA;\n",
              "    box-shadow: 0px 1px 2px rgba(60, 64, 67, 0.3), 0px 1px 3px 1px rgba(60, 64, 67, 0.15);\n",
              "    fill: #174EA6;\n",
              "  }\n",
              "\n",
              "  [theme=dark] .colab-df-quickchart {\n",
              "    background-color: #3B4455;\n",
              "    fill: #D2E3FC;\n",
              "  }\n",
              "\n",
              "  [theme=dark] .colab-df-quickchart:hover {\n",
              "    background-color: #434B5C;\n",
              "    box-shadow: 0px 1px 3px 1px rgba(0, 0, 0, 0.15);\n",
              "    filter: drop-shadow(0px 1px 2px rgba(0, 0, 0, 0.3));\n",
              "    fill: #FFFFFF;\n",
              "  }\n",
              "</style>\n",
              "\n",
              "    <script>\n",
              "      async function quickchart(key) {\n",
              "        const containerElement = document.querySelector('#' + key);\n",
              "        const charts = await google.colab.kernel.invokeFunction(\n",
              "            'suggestCharts', [key], {});\n",
              "      }\n",
              "    </script>\n",
              "\n",
              "\n",
              "      <script>\n",
              "\n",
              "function displayQuickchartButton(domScope) {\n",
              "  let quickchartButtonEl =\n",
              "    domScope.querySelector('#df-25f36de3-39a7-4fff-87f3-1b3ef959b681 button.colab-df-quickchart');\n",
              "  quickchartButtonEl.style.display =\n",
              "    google.colab.kernel.accessAllowed ? 'block' : 'none';\n",
              "}\n",
              "\n",
              "        displayQuickchartButton(document);\n",
              "      </script>\n",
              "      <style>\n",
              "    .colab-df-container {\n",
              "      display:flex;\n",
              "      flex-wrap:wrap;\n",
              "      gap: 12px;\n",
              "    }\n",
              "\n",
              "    .colab-df-convert {\n",
              "      background-color: #E8F0FE;\n",
              "      border: none;\n",
              "      border-radius: 50%;\n",
              "      cursor: pointer;\n",
              "      display: none;\n",
              "      fill: #1967D2;\n",
              "      height: 32px;\n",
              "      padding: 0 0 0 0;\n",
              "      width: 32px;\n",
              "    }\n",
              "\n",
              "    .colab-df-convert:hover {\n",
              "      background-color: #E2EBFA;\n",
              "      box-shadow: 0px 1px 2px rgba(60, 64, 67, 0.3), 0px 1px 3px 1px rgba(60, 64, 67, 0.15);\n",
              "      fill: #174EA6;\n",
              "    }\n",
              "\n",
              "    [theme=dark] .colab-df-convert {\n",
              "      background-color: #3B4455;\n",
              "      fill: #D2E3FC;\n",
              "    }\n",
              "\n",
              "    [theme=dark] .colab-df-convert:hover {\n",
              "      background-color: #434B5C;\n",
              "      box-shadow: 0px 1px 3px 1px rgba(0, 0, 0, 0.15);\n",
              "      filter: drop-shadow(0px 1px 2px rgba(0, 0, 0, 0.3));\n",
              "      fill: #FFFFFF;\n",
              "    }\n",
              "  </style>\n",
              "\n",
              "      <script>\n",
              "        const buttonEl =\n",
              "          document.querySelector('#df-80cfb9f1-8c5a-4446-bfb3-043a65600015 button.colab-df-convert');\n",
              "        buttonEl.style.display =\n",
              "          google.colab.kernel.accessAllowed ? 'block' : 'none';\n",
              "\n",
              "        async function convertToInteractive(key) {\n",
              "          const element = document.querySelector('#df-80cfb9f1-8c5a-4446-bfb3-043a65600015');\n",
              "          const dataTable =\n",
              "            await google.colab.kernel.invokeFunction('convertToInteractive',\n",
              "                                                     [key], {});\n",
              "          if (!dataTable) return;\n",
              "\n",
              "          const docLinkHtml = 'Like what you see? Visit the ' +\n",
              "            '<a target=\"_blank\" href=https://colab.research.google.com/notebooks/data_table.ipynb>data table notebook</a>'\n",
              "            + ' to learn more about interactive tables.';\n",
              "          element.innerHTML = '';\n",
              "          dataTable['output_type'] = 'display_data';\n",
              "          await google.colab.output.renderOutput(dataTable, element);\n",
              "          const docLink = document.createElement('div');\n",
              "          docLink.innerHTML = docLinkHtml;\n",
              "          element.appendChild(docLink);\n",
              "        }\n",
              "      </script>\n",
              "    </div>\n",
              "  </div>\n"
            ]
          },
          "metadata": {},
          "execution_count": 17
        }
      ]
    },
    {
      "cell_type": "markdown",
      "source": [
        "Data Pre Processing"
      ],
      "metadata": {
        "id": "IReMbdE7ImQK"
      }
    },
    {
      "cell_type": "code",
      "source": [
        "scaler = StandardScaler()"
      ],
      "metadata": {
        "id": "Ukifb-QyeYHw"
      },
      "execution_count": 18,
      "outputs": []
    },
    {
      "cell_type": "code",
      "source": [
        "scaler.fit(features)"
      ],
      "metadata": {
        "colab": {
          "base_uri": "https://localhost:8080/",
          "height": 75
        },
        "id": "RaceNj_pea-c",
        "outputId": "695e2fb7-78ce-4b3c-cf02-3711070550fa"
      },
      "execution_count": 19,
      "outputs": [
        {
          "output_type": "execute_result",
          "data": {
            "text/plain": [
              "StandardScaler()"
            ],
            "text/html": [
              "<style>#sk-container-id-1 {color: black;background-color: white;}#sk-container-id-1 pre{padding: 0;}#sk-container-id-1 div.sk-toggleable {background-color: white;}#sk-container-id-1 label.sk-toggleable__label {cursor: pointer;display: block;width: 100%;margin-bottom: 0;padding: 0.3em;box-sizing: border-box;text-align: center;}#sk-container-id-1 label.sk-toggleable__label-arrow:before {content: \"▸\";float: left;margin-right: 0.25em;color: #696969;}#sk-container-id-1 label.sk-toggleable__label-arrow:hover:before {color: black;}#sk-container-id-1 div.sk-estimator:hover label.sk-toggleable__label-arrow:before {color: black;}#sk-container-id-1 div.sk-toggleable__content {max-height: 0;max-width: 0;overflow: hidden;text-align: left;background-color: #f0f8ff;}#sk-container-id-1 div.sk-toggleable__content pre {margin: 0.2em;color: black;border-radius: 0.25em;background-color: #f0f8ff;}#sk-container-id-1 input.sk-toggleable__control:checked~div.sk-toggleable__content {max-height: 200px;max-width: 100%;overflow: auto;}#sk-container-id-1 input.sk-toggleable__control:checked~label.sk-toggleable__label-arrow:before {content: \"▾\";}#sk-container-id-1 div.sk-estimator input.sk-toggleable__control:checked~label.sk-toggleable__label {background-color: #d4ebff;}#sk-container-id-1 div.sk-label input.sk-toggleable__control:checked~label.sk-toggleable__label {background-color: #d4ebff;}#sk-container-id-1 input.sk-hidden--visually {border: 0;clip: rect(1px 1px 1px 1px);clip: rect(1px, 1px, 1px, 1px);height: 1px;margin: -1px;overflow: hidden;padding: 0;position: absolute;width: 1px;}#sk-container-id-1 div.sk-estimator {font-family: monospace;background-color: #f0f8ff;border: 1px dotted black;border-radius: 0.25em;box-sizing: border-box;margin-bottom: 0.5em;}#sk-container-id-1 div.sk-estimator:hover {background-color: #d4ebff;}#sk-container-id-1 div.sk-parallel-item::after {content: \"\";width: 100%;border-bottom: 1px solid gray;flex-grow: 1;}#sk-container-id-1 div.sk-label:hover label.sk-toggleable__label {background-color: #d4ebff;}#sk-container-id-1 div.sk-serial::before {content: \"\";position: absolute;border-left: 1px solid gray;box-sizing: border-box;top: 0;bottom: 0;left: 50%;z-index: 0;}#sk-container-id-1 div.sk-serial {display: flex;flex-direction: column;align-items: center;background-color: white;padding-right: 0.2em;padding-left: 0.2em;position: relative;}#sk-container-id-1 div.sk-item {position: relative;z-index: 1;}#sk-container-id-1 div.sk-parallel {display: flex;align-items: stretch;justify-content: center;background-color: white;position: relative;}#sk-container-id-1 div.sk-item::before, #sk-container-id-1 div.sk-parallel-item::before {content: \"\";position: absolute;border-left: 1px solid gray;box-sizing: border-box;top: 0;bottom: 0;left: 50%;z-index: -1;}#sk-container-id-1 div.sk-parallel-item {display: flex;flex-direction: column;z-index: 1;position: relative;background-color: white;}#sk-container-id-1 div.sk-parallel-item:first-child::after {align-self: flex-end;width: 50%;}#sk-container-id-1 div.sk-parallel-item:last-child::after {align-self: flex-start;width: 50%;}#sk-container-id-1 div.sk-parallel-item:only-child::after {width: 0;}#sk-container-id-1 div.sk-dashed-wrapped {border: 1px dashed gray;margin: 0 0.4em 0.5em 0.4em;box-sizing: border-box;padding-bottom: 0.4em;background-color: white;}#sk-container-id-1 div.sk-label label {font-family: monospace;font-weight: bold;display: inline-block;line-height: 1.2em;}#sk-container-id-1 div.sk-label-container {text-align: center;}#sk-container-id-1 div.sk-container {/* jupyter's `normalize.less` sets `[hidden] { display: none; }` but bootstrap.min.css set `[hidden] { display: none !important; }` so we also need the `!important` here to be able to override the default hidden behavior on the sphinx rendered scikit-learn.org. See: https://github.com/scikit-learn/scikit-learn/issues/21755 */display: inline-block !important;position: relative;}#sk-container-id-1 div.sk-text-repr-fallback {display: none;}</style><div id=\"sk-container-id-1\" class=\"sk-top-container\"><div class=\"sk-text-repr-fallback\"><pre>StandardScaler()</pre><b>In a Jupyter environment, please rerun this cell to show the HTML representation or trust the notebook. <br />On GitHub, the HTML representation is unable to render, please try loading this page with nbviewer.org.</b></div><div class=\"sk-container\" hidden><div class=\"sk-item\"><div class=\"sk-estimator sk-toggleable\"><input class=\"sk-toggleable__control sk-hidden--visually\" id=\"sk-estimator-id-1\" type=\"checkbox\" checked><label for=\"sk-estimator-id-1\" class=\"sk-toggleable__label sk-toggleable__label-arrow\">StandardScaler</label><div class=\"sk-toggleable__content\"><pre>StandardScaler()</pre></div></div></div></div></div>"
            ]
          },
          "metadata": {},
          "execution_count": 19
        }
      ]
    },
    {
      "cell_type": "code",
      "source": [
        "standardized_data = scaler.transform(features)"
      ],
      "metadata": {
        "id": "5lQuiZ_pepG5"
      },
      "execution_count": 20,
      "outputs": []
    },
    {
      "cell_type": "code",
      "source": [
        "print(standardized_data)"
      ],
      "metadata": {
        "colab": {
          "base_uri": "https://localhost:8080/",
          "height": 0
        },
        "id": "gsT_X3ipeqdl",
        "outputId": "71a04834-f83f-4c13-a917-54be2b0dfe51"
      },
      "execution_count": 21,
      "outputs": [
        {
          "output_type": "stream",
          "name": "stdout",
          "text": [
            "[[-1.78470346 -2.21575484 -2.32022415 ...  1.8737626  -1.77506344\n",
            "   2.19727996]\n",
            " [-0.29478016 -0.56880361 -0.70091635 ...  0.93837685 -0.82486401\n",
            "   0.84023019]\n",
            " [-0.66135033 -0.43294002 -0.36939513 ... -0.43161453  0.07405883\n",
            "  -0.21148339]\n",
            " ...\n",
            " [ 0.53695644  0.7326892   0.90028724 ... -0.65517709  0.76312751\n",
            "  -0.83346454]\n",
            " [-0.04737457  0.48215494  0.8057821  ... -1.30619127  1.29646729\n",
            "  -1.28581446]\n",
            " [ 0.31297387  0.27147071  0.11193101 ...  0.0316071  -0.21587543\n",
            "   0.1183551 ]]\n"
          ]
        }
      ]
    },
    {
      "cell_type": "code",
      "source": [
        "features = standardized_data\n",
        "target = pumpkin_dataset['Class']"
      ],
      "metadata": {
        "id": "GJgjhVZKezyJ"
      },
      "execution_count": 22,
      "outputs": []
    },
    {
      "cell_type": "code",
      "source": [
        "print(features)\n",
        "print(target)"
      ],
      "metadata": {
        "colab": {
          "base_uri": "https://localhost:8080/",
          "height": 0
        },
        "id": "UPRjoF-De8iH",
        "outputId": "11b6a433-6dae-447d-c684-a975f7f98ee6"
      },
      "execution_count": 23,
      "outputs": [
        {
          "output_type": "stream",
          "name": "stdout",
          "text": [
            "[[-1.78470346 -2.21575484 -2.32022415 ...  1.8737626  -1.77506344\n",
            "   2.19727996]\n",
            " [-0.29478016 -0.56880361 -0.70091635 ...  0.93837685 -0.82486401\n",
            "   0.84023019]\n",
            " [-0.66135033 -0.43294002 -0.36939513 ... -0.43161453  0.07405883\n",
            "  -0.21148339]\n",
            " ...\n",
            " [ 0.53695644  0.7326892   0.90028724 ... -0.65517709  0.76312751\n",
            "  -0.83346454]\n",
            " [-0.04737457  0.48215494  0.8057821  ... -1.30619127  1.29646729\n",
            "  -1.28581446]\n",
            " [ 0.31297387  0.27147071  0.11193101 ...  0.0316071  -0.21587543\n",
            "   0.1183551 ]]\n",
            "0       1\n",
            "1       1\n",
            "2       1\n",
            "3       1\n",
            "4       1\n",
            "       ..\n",
            "2495    0\n",
            "2496    0\n",
            "2497    0\n",
            "2498    0\n",
            "2499    0\n",
            "Name: Class, Length: 2500, dtype: int64\n"
          ]
        }
      ]
    },
    {
      "cell_type": "code",
      "source": [
        "X_train,X_testeval,Y_train,Y_testeval = train_test_split(features,target,test_size=0.5,random_state=2)\n",
        "X_test,X_eval,Y_test,Y_eval = train_test_split(X_testeval,Y_testeval,test_size=0.4,random_state=2)"
      ],
      "metadata": {
        "id": "eA1HkR6gfBlN"
      },
      "execution_count": 24,
      "outputs": []
    },
    {
      "cell_type": "code",
      "source": [
        "print(features.shape, X_train.shape, X_test.shape)"
      ],
      "metadata": {
        "colab": {
          "base_uri": "https://localhost:8080/",
          "height": 0
        },
        "id": "gAwat_qGfG5Q",
        "outputId": "365a8778-bfeb-4135-c783-ddfc31933292"
      },
      "execution_count": 25,
      "outputs": [
        {
          "output_type": "stream",
          "name": "stdout",
          "text": [
            "(2500, 12) (1250, 12) (750, 12)\n"
          ]
        }
      ]
    },
    {
      "cell_type": "code",
      "source": [
        "classifier = Logistic_Regression(learning_rate=0.001, no_of_iterations=50000)"
      ],
      "metadata": {
        "id": "gBhOlwYCfL1_"
      },
      "execution_count": 28,
      "outputs": []
    },
    {
      "cell_type": "code",
      "source": [
        "classifier.fit(X_train, Y_train)"
      ],
      "metadata": {
        "id": "aub5mEpafQUC"
      },
      "execution_count": 29,
      "outputs": []
    },
    {
      "cell_type": "code",
      "source": [
        "#Accuracy score on the training data\n",
        "X_eval_prediction = classifier.predict(X_eval)\n",
        "evaluation_data_accuracy = accuracy_score( Y_eval, X_eval_prediction)"
      ],
      "metadata": {
        "id": "AS45MdMkg_w-"
      },
      "execution_count": 31,
      "outputs": []
    },
    {
      "cell_type": "code",
      "source": [
        "X_eval_prediction.shape"
      ],
      "metadata": {
        "colab": {
          "base_uri": "https://localhost:8080/",
          "height": 0
        },
        "id": "-GQQ2T_C6UuM",
        "outputId": "f9a11e57-37de-4692-ae41-785674efe396"
      },
      "execution_count": 32,
      "outputs": [
        {
          "output_type": "execute_result",
          "data": {
            "text/plain": [
              "(500,)"
            ]
          },
          "metadata": {},
          "execution_count": 32
        }
      ]
    },
    {
      "cell_type": "code",
      "source": [
        "print('Accuracy score of the training data : ', evaluation_data_accuracy)"
      ],
      "metadata": {
        "colab": {
          "base_uri": "https://localhost:8080/",
          "height": 0
        },
        "id": "qIHD8_l1hCfn",
        "outputId": "95f7e2d5-b86a-479d-8312-3d44c8154c8c"
      },
      "execution_count": 33,
      "outputs": [
        {
          "output_type": "stream",
          "name": "stdout",
          "text": [
            "Accuracy score of the training data :  0.882\n"
          ]
        }
      ]
    },
    {
      "cell_type": "code",
      "source": [
        "# accuracy score on the test data\n",
        "X_test_prediction = classifier.predict(X_test)\n",
        "test_data_accuracy = accuracy_score( Y_test, X_test_prediction)"
      ],
      "metadata": {
        "id": "9QO5frvUhJfE"
      },
      "execution_count": 35,
      "outputs": []
    },
    {
      "cell_type": "code",
      "source": [
        "print('Accuracy score of the test data : ', test_data_accuracy)"
      ],
      "metadata": {
        "colab": {
          "base_uri": "https://localhost:8080/",
          "height": 0
        },
        "id": "uoqYAaW3hK5f",
        "outputId": "469562e3-a53f-4679-a60b-f9e7a0ef1007"
      },
      "execution_count": 36,
      "outputs": [
        {
          "output_type": "stream",
          "name": "stdout",
          "text": [
            "Accuracy score of the test data :  0.8706666666666667\n"
          ]
        }
      ]
    },
    {
      "cell_type": "code",
      "source": [
        "from sklearn.metrics import accuracy_score,  precision_score, recall_score\n",
        "precision_score(Y_eval, X_eval_prediction, average=\"macro\")\n"
      ],
      "metadata": {
        "colab": {
          "base_uri": "https://localhost:8080/",
          "height": 0
        },
        "id": "l1xnbsojhN8B",
        "outputId": "8afd0a16-b1c0-4e5d-b377-35694c6b2e45"
      },
      "execution_count": 37,
      "outputs": [
        {
          "output_type": "execute_result",
          "data": {
            "text/plain": [
              "0.8820760758196722"
            ]
          },
          "metadata": {},
          "execution_count": 37
        }
      ]
    },
    {
      "cell_type": "code",
      "source": [
        "recall_score(Y_eval, X_eval_prediction, average=\"macro\")\n"
      ],
      "metadata": {
        "colab": {
          "base_uri": "https://localhost:8080/",
          "height": 0
        },
        "id": "DWqrh5Jr7tZW",
        "outputId": "b09208b6-bf09-43c9-d36a-c91c5901161b"
      },
      "execution_count": 38,
      "outputs": [
        {
          "output_type": "execute_result",
          "data": {
            "text/plain": [
              "0.8819109951833064"
            ]
          },
          "metadata": {},
          "execution_count": 38
        }
      ]
    }
  ]
}