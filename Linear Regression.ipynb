{
  "nbformat": 4,
  "nbformat_minor": 0,
  "metadata": {
    "colab": {
      "provenance": []
    },
    "kernelspec": {
      "name": "python3",
      "display_name": "Python 3"
    },
    "language_info": {
      "name": "python"
    }
  },
  "cells": [
    {
      "cell_type": "code",
      "execution_count": 37,
      "metadata": {
        "id": "VedvAfNOMaPP"
      },
      "outputs": [],
      "source": [
        "import matplotlib.pyplot as plt\n",
        "import numpy as np\n",
        "import pandas as pd\n",
        "import random\n",
        "from sklearn.preprocessing import StandardScaler\n",
        "from sklearn.model_selection import train_test_split\n",
        "from sklearn.metrics import accuracy_score"
      ]
    },
    {
      "cell_type": "markdown",
      "source": [
        "Data Pre-Processing"
      ],
      "metadata": {
        "id": "ZkSc2sLjNifQ"
      }
    },
    {
      "cell_type": "code",
      "source": [
        "chemical_data = pd.read_csv('/content/linear-regression.csv')\n",
        "scaler = StandardScaler()\n",
        "scaler.fit(chemical_data)\n",
        "standardized_data = scaler.transform(chemical_data)\n",
        "chemical_data = standardized_data"
      ],
      "metadata": {
        "id": "XTsSHb3INiOM"
      },
      "execution_count": 38,
      "outputs": []
    },
    {
      "cell_type": "code",
      "source": [
        "chemical_data"
      ],
      "metadata": {
        "colab": {
          "base_uri": "https://localhost:8080/"
        },
        "id": "GuGc5JWSNhkb",
        "outputId": "34cb828f-02b9-4925-8c80-f1837092e1d1"
      },
      "execution_count": 39,
      "outputs": [
        {
          "output_type": "execute_result",
          "data": {
            "text/plain": [
              "array([[-0.52835961,  0.96187667, -1.39147228, ..., -0.57920652,\n",
              "        -0.96024611, -0.78782264],\n",
              "       [-0.29854743,  1.96744245, -1.39147228, ...,  0.1289504 ,\n",
              "        -0.58477711, -0.78782264],\n",
              "       [-0.29854743,  1.29706527, -1.18607043, ..., -0.04808883,\n",
              "        -0.58477711, -0.78782264],\n",
              "       ...,\n",
              "       [-1.1603431 , -0.09955388, -0.72391627, ...,  0.54204194,\n",
              "         0.54162988,  0.45084835],\n",
              "       [-1.39015528,  0.65462046, -0.77526673, ...,  0.30598963,\n",
              "        -0.20930812, -0.78782264],\n",
              "       [-1.33270223, -1.21684919,  1.02199944, ...,  0.01092425,\n",
              "         0.54162988,  0.45084835]])"
            ]
          },
          "metadata": {},
          "execution_count": 39
        }
      ]
    },
    {
      "cell_type": "markdown",
      "source": [
        "Feature and Target assignment"
      ],
      "metadata": {
        "id": "CMBaFGUuN3OD"
      }
    },
    {
      "cell_type": "code",
      "source": [
        "X = chemical_data[:,:-1]\n",
        "y = chemical_data[:,-1]"
      ],
      "metadata": {
        "id": "Ocm5X_UzNaUw"
      },
      "execution_count": 40,
      "outputs": []
    },
    {
      "cell_type": "code",
      "source": [
        "X"
      ],
      "metadata": {
        "colab": {
          "base_uri": "https://localhost:8080/"
        },
        "id": "YSo6wBuUN9a8",
        "outputId": "17011489-7f02-475f-e748-647318ceb3fe"
      },
      "execution_count": 41,
      "outputs": [
        {
          "output_type": "execute_result",
          "data": {
            "text/plain": [
              "array([[-0.52835961,  0.96187667, -1.39147228, ...,  1.28864292,\n",
              "        -0.57920652, -0.96024611],\n",
              "       [-0.29854743,  1.96744245, -1.39147228, ..., -0.7199333 ,\n",
              "         0.1289504 , -0.58477711],\n",
              "       [-0.29854743,  1.29706527, -1.18607043, ..., -0.33117661,\n",
              "        -0.04808883, -0.58477711],\n",
              "       ...,\n",
              "       [-1.1603431 , -0.09955388, -0.72391627, ...,  0.70550789,\n",
              "         0.54204194,  0.54162988],\n",
              "       [-1.39015528,  0.65462046, -0.77526673, ...,  1.6773996 ,\n",
              "         0.30598963, -0.20930812],\n",
              "       [-1.33270223, -1.21684919,  1.02199944, ...,  0.51112954,\n",
              "         0.01092425,  0.54162988]])"
            ]
          },
          "metadata": {},
          "execution_count": 41
        }
      ]
    },
    {
      "cell_type": "code",
      "source": [
        "y"
      ],
      "metadata": {
        "colab": {
          "base_uri": "https://localhost:8080/"
        },
        "id": "tC-Cl54yOBN6",
        "outputId": "51d32729-7e5c-4036-93fd-d1f3eeccfbbe"
      },
      "execution_count": 42,
      "outputs": [
        {
          "output_type": "execute_result",
          "data": {
            "text/plain": [
              "array([-0.78782264, -0.78782264, -0.78782264, ...,  0.45084835,\n",
              "       -0.78782264,  0.45084835])"
            ]
          },
          "metadata": {},
          "execution_count": 42
        }
      ]
    },
    {
      "cell_type": "markdown",
      "source": [
        "Assign Train, Test and Evaluation Data"
      ],
      "metadata": {
        "id": "2D6zRahXOP-W"
      }
    },
    {
      "cell_type": "code",
      "source": [
        "from sklearn.model_selection import train_test_split\n",
        "X_train,X_testeval,y_train,y_testeval = train_test_split(X,y,test_size=0.5,random_state=2)\n",
        "X_test,X_eval,y_test,y_eval = train_test_split(X_testeval,y_testeval,test_size=0.4,random_state=2)"
      ],
      "metadata": {
        "id": "A0s-neMhOMGj"
      },
      "execution_count": 43,
      "outputs": []
    },
    {
      "cell_type": "code",
      "source": [
        "print(X_train.shape)\n",
        "print(X_test.shape)\n",
        "print(X_eval.shape)"
      ],
      "metadata": {
        "colab": {
          "base_uri": "https://localhost:8080/"
        },
        "id": "al5vTHT8OU7H",
        "outputId": "017bb823-1b08-471c-fe5d-e6ab0a642c04"
      },
      "execution_count": 44,
      "outputs": [
        {
          "output_type": "stream",
          "name": "stdout",
          "text": [
            "(799, 11)\n",
            "(480, 11)\n",
            "(320, 11)\n"
          ]
        }
      ]
    },
    {
      "cell_type": "markdown",
      "source": [
        "Linear Regression Analytical"
      ],
      "metadata": {
        "id": "GTXT05g6zpmG"
      }
    },
    {
      "cell_type": "code",
      "source": [
        "class Linear_Regression_Analytical:\n",
        "    def __init__(self):\n",
        "        self.coef_ = None\n",
        "        self.intercept_ = None\n",
        "\n",
        "    def fit(self,X_train,y_train):\n",
        "        X_train = np.insert(X_train,0,1,axis=1)\n",
        "\n",
        "        # calcuate the coeffs\n",
        "        betas = np.linalg.inv(np.dot(X_train.T,X_train)).dot(X_train.T).dot(y_train)\n",
        "        self.intercept_ = betas[0]\n",
        "        self.coef_ = betas[1:]\n",
        "\n",
        "    def predict(self,X_test):\n",
        "        y_pred = np.dot(X_test,self.coef_) + self.intercept_\n",
        "        return y_pred"
      ],
      "metadata": {
        "id": "XLtzDAuqOdnJ"
      },
      "execution_count": 46,
      "outputs": []
    },
    {
      "cell_type": "code",
      "source": [
        "lr = Linear_Regression_Analytical()"
      ],
      "metadata": {
        "id": "rwArw9HJOmrS"
      },
      "execution_count": 47,
      "outputs": []
    },
    {
      "cell_type": "code",
      "source": [
        "lr.fit(X_train,y_train)"
      ],
      "metadata": {
        "id": "KRT3gSYxPDsW"
      },
      "execution_count": 48,
      "outputs": []
    },
    {
      "cell_type": "code",
      "source": [
        "X_train.shape"
      ],
      "metadata": {
        "colab": {
          "base_uri": "https://localhost:8080/"
        },
        "id": "A6isjm-kPNYN",
        "outputId": "908e1247-60c9-47f4-8b12-f7b1c21fe15b"
      },
      "execution_count": 49,
      "outputs": [
        {
          "output_type": "execute_result",
          "data": {
            "text/plain": [
              "(799, 11)"
            ]
          },
          "metadata": {},
          "execution_count": 49
        }
      ]
    },
    {
      "cell_type": "code",
      "source": [
        "np.insert(X_train,0,1,axis=1).shape"
      ],
      "metadata": {
        "colab": {
          "base_uri": "https://localhost:8080/"
        },
        "id": "g2bObwKvPSvt",
        "outputId": "eb0798a3-7d1a-47eb-e3ee-7e708cacfa4a"
      },
      "execution_count": 50,
      "outputs": [
        {
          "output_type": "execute_result",
          "data": {
            "text/plain": [
              "(799, 12)"
            ]
          },
          "metadata": {},
          "execution_count": 50
        }
      ]
    },
    {
      "cell_type": "code",
      "source": [
        "y_pred = lr.predict(X_eval)"
      ],
      "metadata": {
        "id": "4sG6skLvPT2R"
      },
      "execution_count": 51,
      "outputs": []
    },
    {
      "cell_type": "code",
      "source": [
        "y_pred"
      ],
      "metadata": {
        "colab": {
          "base_uri": "https://localhost:8080/"
        },
        "id": "RNTJaJvcPVvx",
        "outputId": "fd997ba1-8781-4e9f-d730-f8f20cce9e3c"
      },
      "execution_count": 52,
      "outputs": [
        {
          "output_type": "execute_result",
          "data": {
            "text/plain": [
              "array([ 9.05208870e-01,  2.36166101e-01,  1.60877043e-01, -1.19577944e+00,\n",
              "        3.10219948e-01,  7.09912301e-01,  1.56960249e+00, -5.59835033e-01,\n",
              "       -2.41194110e-01,  7.77405965e-01, -8.66859629e-01, -5.77081831e-01,\n",
              "        1.08874304e-01,  3.57586827e-01,  5.21803331e-01, -3.65603017e-01,\n",
              "       -4.14747271e-01, -7.03378961e-02,  5.36041865e-02,  9.16113836e-01,\n",
              "        6.26522526e-01,  4.25471896e-01, -4.48373953e-01, -4.75742123e-01,\n",
              "       -9.49878669e-01, -1.73869016e-01,  5.67267030e-01, -6.72080410e-01,\n",
              "       -5.74522170e-01, -7.39614870e-01, -9.38498048e-01, -4.68263973e-01,\n",
              "        8.27306796e-01,  3.24097229e-01, -2.42472114e-01,  9.60538927e-01,\n",
              "        1.90899329e-01, -2.93891770e-01, -7.67633905e-01, -7.70044716e-01,\n",
              "        3.24285201e-01, -4.29358209e-01, -5.09127373e-01, -9.20572511e-01,\n",
              "        6.87691178e-01,  2.62184592e-01,  1.09508552e+00, -9.80882842e-01,\n",
              "       -7.47761615e-01, -3.44665113e-01,  1.33337910e+00, -5.18190030e-01,\n",
              "        8.21096921e-02,  7.04002848e-01, -5.05967038e-01,  4.72833426e-01,\n",
              "        8.96658824e-01, -7.07003337e-01, -7.90127851e-01,  1.38297333e-01,\n",
              "        9.18426539e-01, -2.19383970e-01, -8.18759268e-01, -6.74895248e-01,\n",
              "       -4.58456941e-01, -3.79216590e-01,  4.36522270e-01,  5.44795691e-01,\n",
              "        1.06374566e+00,  7.51636939e-01,  6.14373839e-01,  5.68549084e-01,\n",
              "       -2.53516535e-01,  1.21565353e-01, -4.29000929e-03,  2.91570581e-01,\n",
              "       -8.46840988e-01, -1.24303596e+00,  4.06399650e-01,  7.28700810e-01,\n",
              "       -5.54626880e-02, -6.00159047e-01,  3.03333906e-01, -1.65406365e-01,\n",
              "        6.74182591e-01, -6.13956613e-02,  1.82495604e-01, -2.67425563e-01,\n",
              "       -3.88375874e-01, -5.29027360e-01,  5.98970485e-01,  7.31057280e-01,\n",
              "       -4.90433964e-01,  5.29386585e-01,  5.69629313e-01, -1.23293608e-03,\n",
              "       -4.07099019e-01,  2.66772454e-01, -4.62437251e-01,  3.72620988e-01,\n",
              "        6.69872354e-01,  4.39968852e-02,  1.49842526e-01,  5.98970485e-01,\n",
              "        6.42510169e-01, -2.52062965e-01, -7.49530891e-01,  3.24584482e-01,\n",
              "        7.53313650e-01, -9.05581258e-01,  3.24285201e-01,  7.64284818e-01,\n",
              "       -9.23410293e-01,  5.71357189e-01, -5.12271280e-01,  7.66279027e-02,\n",
              "       -1.69261109e+00, -2.43339269e-01,  5.83658461e-01, -2.43339269e-01,\n",
              "        1.12524547e+00, -1.42115844e-01,  8.45610804e-01, -4.17733398e-01,\n",
              "        1.13607631e+00,  3.47001598e-01,  1.85057799e-01, -1.27128875e-01,\n",
              "        3.63509217e-01, -3.73033003e-01,  1.63534631e-01,  8.81067106e-02,\n",
              "       -6.67605300e-01, -4.96129542e-01, -2.53281572e-01,  2.39674750e-01,\n",
              "       -6.41859109e-01,  7.23285847e-01, -4.84260085e-01, -4.71314478e-01,\n",
              "        7.49173165e-02,  1.09329198e+00, -2.63180295e-02, -6.90114844e-01,\n",
              "        3.36910452e-01, -5.44120963e-01, -5.97783285e-02, -6.38456006e-01,\n",
              "       -5.29924695e-01, -2.64106274e-01, -4.91801014e-01,  1.89073930e-02,\n",
              "       -4.78704399e-01, -1.22432544e-01, -5.74457743e-01,  1.01492274e+00,\n",
              "        1.04868554e+00, -1.18804522e+00,  1.70211303e-01, -6.40492740e-01,\n",
              "       -8.63172071e-01, -5.42290598e-01, -1.12658529e+00,  1.36213797e-02,\n",
              "       -4.12132744e-01,  2.84919323e-01,  9.42443081e-01, -7.30067526e-01,\n",
              "        3.85212439e-01, -7.86889949e-01, -5.86262450e-01,  3.36622081e-01,\n",
              "       -1.48222628e-01,  2.28759824e-02,  8.04833026e-01, -1.14479936e+00,\n",
              "       -5.03568773e-01, -3.96910795e-01, -3.65659359e-01, -3.83116267e-01,\n",
              "        9.77843373e-02,  1.14535195e-01,  5.45026723e-01, -3.93421237e-01,\n",
              "       -2.08583547e-01,  5.02513068e-01,  1.30560658e+00, -6.41990907e-01,\n",
              "        1.07090031e+00, -2.18974679e-01, -4.08245958e-01, -9.45208360e-01,\n",
              "        4.69744062e-01, -8.12529532e-01, -4.43190534e-01, -5.10076563e-01,\n",
              "        9.33888472e-02, -5.82625373e-02,  1.23767096e+00, -8.85295246e-01,\n",
              "        9.98763924e-01,  5.83855273e-01, -2.82573774e-01, -1.00636673e+00,\n",
              "       -3.38269226e-02,  1.08538471e-01, -7.00922715e-01,  7.02758500e-01,\n",
              "       -3.44338874e-01,  1.97326249e-01, -5.05617980e-02, -8.72743455e-01,\n",
              "       -6.79530361e-01,  1.84818257e-01,  7.26593307e-02, -2.87597408e-01,\n",
              "        6.88919103e-01,  2.26065167e-01, -5.58932395e-01, -5.59835033e-01,\n",
              "        4.20705562e-01, -1.56410279e-02, -1.14526983e+00,  7.84678390e-01,\n",
              "       -4.83508289e-01, -2.98483661e-01,  5.29610762e-03,  1.12004646e+00,\n",
              "        9.77559320e-01,  1.33965268e-01,  2.10380297e-01, -3.79191975e-02,\n",
              "        6.54588606e-01, -7.01673180e-01, -7.47162717e-01,  4.00973580e-02,\n",
              "        1.78463446e-01,  1.10736122e+00, -4.06155981e-01,  3.82276258e-01,\n",
              "       -4.35642917e-01, -4.15568931e-01,  5.29611505e-01,  1.25158532e+00,\n",
              "       -7.24155000e-01, -2.10533608e-01, -1.81305790e-01,  9.41957637e-01,\n",
              "       -6.65397439e-01,  4.27056816e-01,  8.34110284e-01, -2.02142361e-01,\n",
              "       -2.32950683e-01,  5.03762749e-01, -3.56258908e-01, -3.68674716e-01,\n",
              "        8.53591826e-01,  1.23353321e-01, -3.90288073e-01,  1.94131608e-01,\n",
              "        6.65422995e-01, -1.40056775e-01,  5.76366605e-01,  6.14522683e-02,\n",
              "       -1.98814839e-01, -2.35770857e-01, -1.77861240e+00, -6.38456006e-01,\n",
              "        6.02964940e-01,  5.65458258e-01, -2.59676524e-03, -3.08119119e-01,\n",
              "       -7.16950615e-01, -5.45471217e-01, -6.18176714e-01,  2.04497589e-01,\n",
              "        1.61813310e-02,  8.52462645e-01, -6.23241438e-01, -3.92917544e-01,\n",
              "        5.48627791e-01,  8.23030345e-01,  5.26419253e-01, -1.83428828e-01,\n",
              "       -9.50935132e-01, -1.04036686e+00, -2.25065070e-01,  6.40286402e-01,\n",
              "       -7.29358263e-01,  4.72669554e-01, -9.87715295e-01, -2.53903451e-01,\n",
              "       -7.22949850e-01,  4.00973580e-02,  1.01331736e+00,  7.24721570e-01,\n",
              "        2.80647028e-02,  9.92879293e-01,  5.32358704e-01, -1.10616125e+00,\n",
              "       -2.73514078e-01,  1.23540853e+00,  5.71357189e-01, -6.45584241e-01,\n",
              "        7.86470928e-01, -3.77724620e-01, -5.60324195e-01, -1.01739965e-01,\n",
              "       -1.09885655e+00, -8.49188648e-01,  2.27871494e-01,  8.30664443e-01,\n",
              "        2.12631066e-01, -6.16658196e-01,  3.57586827e-01, -3.38269226e-02,\n",
              "       -6.41859109e-01, -7.90774983e-02, -2.70424844e-01, -2.66011758e-01])"
            ]
          },
          "metadata": {},
          "execution_count": 52
        }
      ]
    },
    {
      "cell_type": "code",
      "source": [
        "from sklearn.metrics import r2_score\n",
        "r2_score(y_eval,y_pred)"
      ],
      "metadata": {
        "colab": {
          "base_uri": "https://localhost:8080/"
        },
        "id": "_pcyixOZPaOK",
        "outputId": "6a0cf11b-4290-49ae-d6fe-7cde3ae88a3b"
      },
      "execution_count": 53,
      "outputs": [
        {
          "output_type": "execute_result",
          "data": {
            "text/plain": [
              "0.38644867272517447"
            ]
          },
          "metadata": {},
          "execution_count": 53
        }
      ]
    },
    {
      "cell_type": "code",
      "source": [
        "from sklearn.metrics import mean_squared_error\n",
        "mean_squared_error(y_eval,y_pred)"
      ],
      "metadata": {
        "colab": {
          "base_uri": "https://localhost:8080/"
        },
        "id": "E2WzkJDWPd8P",
        "outputId": "7da35a1a-6561-4c85-d910-106f63e4de27"
      },
      "execution_count": 54,
      "outputs": [
        {
          "output_type": "execute_result",
          "data": {
            "text/plain": [
              "0.6183291816953717"
            ]
          },
          "metadata": {},
          "execution_count": 54
        }
      ]
    },
    {
      "cell_type": "code",
      "source": [
        "lr.coef_"
      ],
      "metadata": {
        "colab": {
          "base_uri": "https://localhost:8080/"
        },
        "id": "ZL_Bq08dPgzN",
        "outputId": "5b5831ea-dc4b-4554-a2d7-65e324f79a89"
      },
      "execution_count": 55,
      "outputs": [
        {
          "output_type": "execute_result",
          "data": {
            "text/plain": [
              "array([ 0.06900213, -0.2667446 , -0.05202397, -0.03892874, -0.11004562,\n",
              "        0.05776122, -0.11517062,  0.02110622, -0.07267331,  0.16011144,\n",
              "        0.40419222])"
            ]
          },
          "metadata": {},
          "execution_count": 55
        }
      ]
    },
    {
      "cell_type": "code",
      "source": [
        "lr.intercept_"
      ],
      "metadata": {
        "colab": {
          "base_uri": "https://localhost:8080/"
        },
        "id": "wiMXsNisPjmZ",
        "outputId": "11a9f8ab-1873-41d4-9706-33ac47f9ca4a"
      },
      "execution_count": 56,
      "outputs": [
        {
          "output_type": "execute_result",
          "data": {
            "text/plain": [
              "-0.04787198225974796"
            ]
          },
          "metadata": {},
          "execution_count": 56
        }
      ]
    },
    {
      "cell_type": "markdown",
      "source": [
        "Gradient Descent"
      ],
      "metadata": {
        "id": "0BgCu5pRx_aK"
      }
    },
    {
      "cell_type": "code",
      "source": [
        "class Linear_Regression_GD():\n",
        "   def __init__( self, learning_rate, no_of_iterations ) :\n",
        "        self.learning_rate = learning_rate\n",
        "        self.no_of_iterations = no_of_iterations\n",
        "        self.loss_array = []\n",
        "\n",
        "   def fit( self, X, Y ) :\n",
        "        self.m, self.n = X.shape\n",
        "\n",
        "        #initiating the weight and bias\n",
        "        self.w = np.random.rand( self.n )\n",
        "        self.b = random.random()\n",
        "        self.X = X\n",
        "        self.Y = Y\n",
        "\n",
        "        #implementing Gradient Descent for Optimization for no of iterations\n",
        "        for i in range( self.no_of_iterations ) :\n",
        "            self.update_weights()\n",
        "\n",
        "    #function to update weights in gradient descent\n",
        "   def update_weights( self ) :\n",
        "        Y_prediction = self.predict( self.X )\n",
        "        Y_prediction = np.float128(Y_prediction)\n",
        "\n",
        "        dw =  - ( 2 * ( self.X.T ).dot( self.Y - Y_prediction )  ) / self.m\n",
        "        db = - 2 * np.sum( self.Y - Y_prediction ) / self.m\n",
        "\n",
        "        dw=np.float128(dw)\n",
        "        db=np.float128(db)\n",
        "\n",
        "        #updating the weights\n",
        "        self.w = self.w - self.learning_rate*dw\n",
        "        self.b = self.b - self.learning_rate*db\n",
        "        j = (1/2)*np.mean((self.Y-Y_prediction)**2)\n",
        "        self.loss_array.append(j);\n",
        "\n",
        "    #prediction:\n",
        "   def predict( self, X ) :\n",
        "        return X.dot( self.w ) + self.b"
      ],
      "metadata": {
        "id": "xSK5i78UzAmD"
      },
      "execution_count": 57,
      "outputs": []
    },
    {
      "cell_type": "code",
      "source": [
        "gd = Linear_Regression_GD(learning_rate = 0.01, no_of_iterations=30000)"
      ],
      "metadata": {
        "id": "a8mqdVCByPrI"
      },
      "execution_count": 58,
      "outputs": []
    },
    {
      "cell_type": "code",
      "source": [
        "gd.fit(X_train,y_train)"
      ],
      "metadata": {
        "id": "0V0e_D1cysvm"
      },
      "execution_count": 59,
      "outputs": []
    },
    {
      "cell_type": "code",
      "source": [
        "import matplotlib.pyplot as plt\n",
        "\n",
        "ypoints = np.array(gd.loss_array)\n",
        "\n",
        "plt.plot(ypoints)\n",
        "plt.show()"
      ],
      "metadata": {
        "colab": {
          "base_uri": "https://localhost:8080/",
          "height": 430
        },
        "id": "gJk1LnPAywtk",
        "outputId": "abdc2b02-1e1f-43b2-dfeb-92c702f942b1"
      },
      "execution_count": 60,
      "outputs": [
        {
          "output_type": "display_data",
          "data": {
            "text/plain": [
              "<Figure size 640x480 with 1 Axes>"
            ],
            "image/png": "[encoded data removed]"
          },
          "metadata": {}
        }
      ]
    },
    {
      "cell_type": "code",
      "source": [
        "gd = Linear_Regression_GD(learning_rate = 0.001, no_of_iterations=30000)\n",
        "gd.fit(X_train,y_train)"
      ],
      "metadata": {
        "id": "SEjs9Kacy6RG"
      },
      "execution_count": 61,
      "outputs": []
    },
    {
      "cell_type": "code",
      "source": [
        "import matplotlib.pyplot as plt\n",
        "\n",
        "ypoints = np.array(gd.loss_array)\n",
        "\n",
        "plt.plot(ypoints)\n",
        "plt.show()"
      ],
      "metadata": {
        "colab": {
          "base_uri": "https://localhost:8080/",
          "height": 430
        },
        "id": "lUkwoGmuy98V",
        "outputId": "99a8dfbc-02fe-485e-cf53-662af709bc10"
      },
      "execution_count": 62,
      "outputs": [
        {
          "output_type": "display_data",
          "data": {
            "text/plain": [
              "<Figure size 640x480 with 1 Axes>"
            ],
            "image/png": "[encoded data removed]"
          },
          "metadata": {}
        }
      ]
    },
    {
      "cell_type": "code",
      "source": [
        "gd = Linear_Regression_GD(learning_rate = 0.0001, no_of_iterations=30000)\n",
        "gd.fit(X_train,y_train)"
      ],
      "metadata": {
        "id": "qNNyOSUvzE5E"
      },
      "execution_count": 63,
      "outputs": []
    },
    {
      "cell_type": "code",
      "source": [
        "import matplotlib.pyplot as plt\n",
        "\n",
        "ypoints = np.array(gd.loss_array)\n",
        "\n",
        "plt.plot(ypoints)\n",
        "plt.show()"
      ],
      "metadata": {
        "colab": {
          "base_uri": "https://localhost:8080/",
          "height": 430
        },
        "id": "YCoF45kQzMOp",
        "outputId": "bab186cd-8575-4c5e-82c9-a161faad3f6c"
      },
      "execution_count": 64,
      "outputs": [
        {
          "output_type": "display_data",
          "data": {
            "text/plain": [
              "<Figure size 640x480 with 1 Axes>"
            ],
            "image/png": "[encoded data removed]"
          },
          "metadata": {}
        }
      ]
    },
    {
      "cell_type": "code",
      "source": [
        "y_pred = gd.predict(X_eval)"
      ],
      "metadata": {
        "id": "ByRy3AqlzSzZ"
      },
      "execution_count": 65,
      "outputs": []
    },
    {
      "cell_type": "code",
      "source": [
        "y_pred"
      ],
      "metadata": {
        "colab": {
          "base_uri": "https://localhost:8080/"
        },
        "id": "UEx1TTVtzV64",
        "outputId": "b5fe9885-5482-48ce-b343-9b8dc445357b"
      },
      "execution_count": 66,
      "outputs": [
        {
          "output_type": "execute_result",
          "data": {
            "text/plain": [
              "array([ 8.78703811e-01,  1.26361100e-01,  2.22362427e-01, -7.37481135e-01,\n",
              "        3.36959627e-01,  5.88708571e-01,  1.58631104e+00, -4.43020586e-01,\n",
              "       -2.56452648e-01,  6.79455282e-01, -7.33738262e-01, -7.59593610e-01,\n",
              "       -1.51700105e-01,  3.58994525e-01,  6.55057890e-01, -4.88055021e-01,\n",
              "       -4.45871075e-01, -4.40996008e-01,  5.47358943e-02,  6.77930687e-01,\n",
              "        7.09447200e-01,  1.71204975e-01, -4.39936697e-01, -4.10911536e-01,\n",
              "       -8.21011179e-01, -2.01172791e-01,  5.64716930e-01, -7.22819763e-01,\n",
              "       -5.26466904e-01, -2.75441187e-01, -5.99284061e-01, -4.25274529e-01,\n",
              "        8.01387322e-01,  2.25006887e-01, -3.81634445e-01,  1.04367501e+00,\n",
              "        9.82331607e-02, -4.57993840e-01, -7.85864308e-01, -7.77730247e-01,\n",
              "        1.97139171e-01, -4.44335833e-01, -5.52672869e-01, -7.74771857e-01,\n",
              "        6.24256673e-01, -1.89445058e-02,  1.04602191e+00, -8.07341289e-01,\n",
              "       -6.03563211e-01, -4.66103504e-01,  1.38465785e+00, -4.23091399e-01,\n",
              "       -1.10609437e-01,  6.22647661e-01, -3.06658505e-01,  6.52623564e-01,\n",
              "        1.10746539e+00, -5.56833722e-01, -5.58389910e-01,  1.05546143e-01,\n",
              "        8.64969346e-01, -7.98985680e-02, -6.38546729e-01, -3.53962285e-01,\n",
              "       -4.17578890e-01, -2.82338586e-01,  4.91146726e-01,  6.39302420e-01,\n",
              "        1.18884061e+00,  6.58661306e-01,  5.77385407e-01,  6.65458905e-01,\n",
              "       -4.40920481e-01,  1.96713531e-01, -4.54453776e-02,  4.76461835e-01,\n",
              "       -6.73282355e-01, -1.03805804e+00,  3.98113492e-01,  8.45694050e-01,\n",
              "       -1.11464583e-01, -6.88641426e-01,  9.28568617e-02, -4.13316260e-02,\n",
              "        6.56494973e-01, -1.34268124e-01,  3.40532791e-02, -4.72048680e-01,\n",
              "       -5.65104813e-01, -6.35510786e-01,  3.58035845e-01,  6.73384401e-01,\n",
              "       -5.58808398e-01,  2.65818347e-01,  7.48687348e-01, -8.18489234e-02,\n",
              "       -3.67690925e-01,  5.13486167e-01, -5.28359097e-01,  3.64305618e-01,\n",
              "        7.73992561e-01, -6.01296536e-04, -1.04757379e-01,  3.58035845e-01,\n",
              "        6.04942939e-01, -2.84614301e-01, -6.84425273e-01,  4.36806838e-01,\n",
              "        6.18917229e-01, -7.01444138e-01,  1.97139171e-01,  8.95682418e-01,\n",
              "       -8.68394989e-01,  5.80905364e-01, -4.86309718e-01,  4.79694242e-01,\n",
              "       -1.31768905e+00, -5.39069065e-02,  6.71561719e-01, -5.39069065e-02,\n",
              "        9.83562896e-01, -4.49945481e-01,  9.96604891e-01, -1.79131257e-01,\n",
              "        1.41320832e+00,  2.18265853e-01,  3.08113476e-02,  8.50714543e-02,\n",
              "        4.81546822e-01, -1.64249741e-01,  1.46275833e-01,  1.16938217e-01,\n",
              "       -6.02293309e-01, -4.69375354e-01, -2.63990253e-01,  4.50278747e-01,\n",
              "       -6.11771317e-01,  5.05437129e-01, -3.46730716e-01, -4.56554095e-01,\n",
              "        7.05328665e-02,  1.07053828e+00, -6.19758627e-02, -6.61130857e-01,\n",
              "        6.11999388e-01, -6.22043050e-01, -1.35194843e-01, -5.40014271e-01,\n",
              "       -5.53035762e-01, -3.63523151e-01, -5.02638105e-01, -5.16966025e-02,\n",
              "       -6.08127041e-01, -4.17510448e-01, -6.61135352e-01,  1.01947420e+00,\n",
              "        9.47174495e-01, -1.09045760e+00,  1.57292839e-01, -6.98910221e-01,\n",
              "       -1.12953825e+00, -4.88730773e-01, -1.14723024e+00,  2.83870004e-02,\n",
              "       -6.30107305e-01,  4.53043833e-02,  1.09455067e+00, -6.51821286e-01,\n",
              "        1.61687799e-01, -7.29369419e-01, -5.39893691e-01,  4.92954643e-01,\n",
              "       -1.50278607e-01, -1.51260363e-01,  5.89616443e-01, -8.08702205e-01,\n",
              "       -5.54140845e-01, -6.24205920e-01, -7.75742295e-01, -4.54324991e-01,\n",
              "       -3.55037202e-02,  1.32247667e-01,  5.08714527e-01, -5.17884229e-01,\n",
              "       -1.60011298e-01,  5.77806865e-01,  1.16219599e+00, -5.84224431e-01,\n",
              "        1.07950444e+00, -1.01539798e-01, -4.72403715e-01, -8.97121693e-01,\n",
              "        3.94514399e-01, -7.58499647e-01, -4.27597310e-01, -4.76581996e-01,\n",
              "        5.66564264e-02, -3.42965855e-01,  1.29445984e+00, -9.50918816e-01,\n",
              "        9.24563165e-01,  3.61158341e-01, -2.34190358e-01, -9.07982788e-01,\n",
              "        1.69491221e-01,  2.88116603e-01, -8.16572656e-01,  8.25683776e-01,\n",
              "       -5.22927214e-01,  2.44364976e-01, -1.72207291e-01, -9.41924337e-01,\n",
              "       -9.42542528e-01,  9.63446829e-02,  7.40663561e-01, -3.05862095e-01,\n",
              "        9.10270118e-01,  1.68898229e-02, -5.35059878e-01, -4.43020586e-01,\n",
              "        5.19501325e-01, -1.24066457e-01, -1.02439133e+00,  6.93505467e-01,\n",
              "       -6.14866151e-01, -4.45202544e-01, -2.49209359e-01,  1.03115772e+00,\n",
              "        8.36280916e-01,  3.22424463e-01,  3.70888129e-01, -1.24241428e-01,\n",
              "        7.68454923e-01, -7.99432422e-01, -7.97875618e-01, -2.49276499e-02,\n",
              "        1.55965445e-01,  1.14367660e+00, -4.54284536e-01,  4.50385124e-01,\n",
              "       -3.65673370e-01,  1.30443172e-01,  4.87405783e-01,  8.23103725e-01,\n",
              "       -7.20082103e-01, -4.24426111e-01, -1.53199078e-01,  9.77400957e-01,\n",
              "       -6.41691311e-01,  4.79215703e-01,  8.60959324e-01, -2.19224062e-01,\n",
              "        2.49301234e-02,  3.68350224e-01, -4.80534687e-01, -3.16810779e-01,\n",
              "        8.46005548e-01,  1.75776874e-01, -4.94179025e-01,  1.78098216e-01,\n",
              "        6.01404883e-01, -4.93458189e-01,  3.21121154e-01, -1.27206942e-01,\n",
              "       -1.60214646e-01, -4.91718418e-01, -1.03637018e+00, -5.40014271e-01,\n",
              "        5.45271351e-01,  7.65129900e-01,  3.63973845e-01, -1.68394951e-01,\n",
              "       -5.42098293e-01, -6.48665136e-03, -5.26937560e-01,  1.97164811e-01,\n",
              "        2.52568645e-01,  8.73069557e-01, -6.50651796e-01, -3.90743614e-01,\n",
              "        4.57538290e-01,  3.40321531e-01,  6.90315077e-01, -2.00336579e-01,\n",
              "       -9.65160611e-01, -7.11780114e-01, -5.16493803e-01,  6.53850632e-01,\n",
              "       -6.42226348e-01,  6.33179897e-01, -1.04866651e+00, -2.68025571e-01,\n",
              "       -6.27804256e-01, -2.49276499e-02,  1.16071308e+00,  6.63906540e-01,\n",
              "        1.10955784e-02,  8.26239451e-01,  4.53789453e-01, -8.52944724e-01,\n",
              "       -3.92002488e-01,  9.78557403e-01,  5.80905364e-01, -4.56357568e-01,\n",
              "        6.04416183e-01, -1.36993856e-01, -2.90692984e-01, -4.05640003e-02,\n",
              "       -9.91012175e-01, -5.77927673e-01, -2.15356668e-02,  8.41712523e-01,\n",
              "        1.78472579e-01, -4.93867541e-01,  3.58994525e-01,  1.69491221e-01,\n",
              "       -6.11771317e-01, -1.56782147e-02, -1.81357802e-01, -5.58580894e-01],\n",
              "      dtype=float128)"
            ]
          },
          "metadata": {},
          "execution_count": 66
        }
      ]
    },
    {
      "cell_type": "code",
      "source": [
        "from sklearn.metrics import r2_score\n",
        "#y_pred=np.float128(y_pred)\n",
        "r2_score(y_eval,y_pred)\n"
      ],
      "metadata": {
        "colab": {
          "base_uri": "https://localhost:8080/"
        },
        "id": "slVgLuSwzZzL",
        "outputId": "94b2d056-9c48-48c1-9fc0-33da1af2edfe"
      },
      "execution_count": 67,
      "outputs": [
        {
          "output_type": "execute_result",
          "data": {
            "text/plain": [
              "0.3534119294782815"
            ]
          },
          "metadata": {},
          "execution_count": 67
        }
      ]
    },
    {
      "cell_type": "code",
      "source": [
        "from sklearn.metrics import mean_squared_error\n",
        "mean_squared_error(y_eval,y_pred)"
      ],
      "metadata": {
        "colab": {
          "base_uri": "https://localhost:8080/"
        },
        "id": "QzgzTx52zeXJ",
        "outputId": "4d34b17e-e175-46b1-e14e-57ec5afd2984"
      },
      "execution_count": 68,
      "outputs": [
        {
          "output_type": "execute_result",
          "data": {
            "text/plain": [
              "0.6516231890744501779"
            ]
          },
          "metadata": {},
          "execution_count": 68
        }
      ]
    }
  ]
}